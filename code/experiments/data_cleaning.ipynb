{
 "cells": [
  {
   "cell_type": "markdown",
   "id": "0cc22c99",
   "metadata": {},
   "source": [
    "## Conformalized Survival Analysis with Right-Censoring\n",
    "\n",
    "This notebook demonstrates the use of DR-COSARC on real data sets."
   ]
  },
  {
   "cell_type": "code",
   "execution_count": 11,
   "id": "095c56c5",
   "metadata": {},
   "outputs": [],
   "source": [
    "# Load required libraries\n",
    "suppressMessages(library(tidyverse))\n",
    "suppressMessages(library(gridExtra))\n",
    "library(survival)\n",
    "library(ggsurvfit)\n",
    "library(grf)\n",
    "library(cfsurvival)\n",
    "suppressMessages(library(hdf5r))"
   ]
  },
  {
   "cell_type": "markdown",
   "id": "881f2c4a",
   "metadata": {},
   "source": [
    "## Load the data"
   ]
  },
  {
   "cell_type": "code",
   "execution_count": 18,
   "id": "828a3d82",
   "metadata": {},
   "outputs": [
    {
     "name": "stdout",
     "output_type": "stream",
     "text": [
      "[1] \"VALCT\"\n",
      "[1] \"PBC\"\n",
      "[1] \"GBSG\"\n",
      "[1] \"METABRIC\"\n"
     ]
    },
    {
     "name": "stderr",
     "output_type": "stream",
     "text": [
      "\u001b[1mRows: \u001b[22m\u001b[34m2509\u001b[39m \u001b[1mColumns: \u001b[22m\u001b[34m39\u001b[39m\n",
      "\u001b[36m──\u001b[39m \u001b[1mColumn specification\u001b[22m \u001b[36m────────────────────────────────────────────────────────\u001b[39m\n",
      "\u001b[1mDelimiter:\u001b[22m \"\\t\"\n",
      "\u001b[31mchr\u001b[39m (27): Study ID, Patient ID, Sample ID, Type of Breast Surgery, Cancer Ty...\n",
      "\u001b[32mdbl\u001b[39m (12): Age at Diagnosis, Cohort, Neoplasm Histologic Grade, Lymph nodes e...\n",
      "\n",
      "\u001b[36mℹ\u001b[39m Use `spec()` to retrieve the full column specification for this data.\n",
      "\u001b[36mℹ\u001b[39m Specify the column types or set `show_col_types = FALSE` to quiet this message.\n",
      "Warning message in coxph.fit(X, Y, istrat, offset, init, control, weights = weights, :\n",
      "“Loglik converged before variable  4 ; coefficient may be infinite. ”\n"
     ]
    }
   ],
   "source": [
    "source(\"utils_real_data.R\")\n",
    "\n",
    "for(data.name in c(\"VALCT\", \"PBC\", \"GBSG\", \"METABRIC\")) {   \n",
    "    cat(sprintf(\"Processing %s...\\n\", data.name))\n",
    "    data <- load_data(data.name)\n",
    "    data %>% write_csv(sprintf(\"../../data/data_csv/%s.csv\", data.name))\n",
    "}"
   ]
  },
  {
   "cell_type": "code",
   "execution_count": null,
   "id": "88da104e",
   "metadata": {},
   "outputs": [],
   "source": []
  }
 ],
 "metadata": {
  "kernelspec": {
   "display_name": "R",
   "language": "R",
   "name": "ir"
  }
 },
 "nbformat": 4,
 "nbformat_minor": 5
}
