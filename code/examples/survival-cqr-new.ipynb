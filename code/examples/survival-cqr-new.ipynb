{
 "cells": [
  {
   "cell_type": "markdown",
   "id": "8d082e1c",
   "metadata": {},
   "source": [
    "## Prototype for Conformalized Survival Analysis with Right-Censoring\n",
    "\n",
    "This notebook demonstrates the performance of a new prototype method to calibrate lower confidence bounds for survival times under right-censoring.\n",
    "This method used imputation of unobserved censoring times to obtain an artificial data set with type-I censoring, and then applies Candes' method.\n",
    "The methods are implemented in the accompanying \"utils\" R scripts."
   ]
  },
  {
   "cell_type": "code",
   "execution_count": null,
   "id": "e2bb623a",
   "metadata": {},
   "outputs": [],
   "source": [
    "# Load required libraries\n",
    "suppressMessages(library(tidyverse))\n",
    "suppressMessages(library(gridExtra))\n",
    "library(survival)\n",
    "library(ggsurvfit)\n",
    "library(grf)\n",
    "library(cfsurvival)"
   ]
  },
  {
   "cell_type": "markdown",
   "id": "cb74ed27",
   "metadata": {},
   "source": [
    "## Generate some survival data"
   ]
  },
  {
   "cell_type": "code",
   "execution_count": null,
   "id": "f1348357",
   "metadata": {},
   "outputs": [],
   "source": [
    "# Generate data from the Log-normal model (Mvt + Heterosc.) of Candes et al. (Table 1)\n",
    "source(\"../conf_surv/utils_data_new.R\")\n",
    "\n",
    "setting = 7\n",
    "\n",
    "if(setting==1) {\n",
    "    ## Setting 1 from Gui et al.\n",
    "    ## Initialize the covariate model\n",
    "    num_features <- 1\n",
    "    covariate_generator <- function(num_samples) {\n",
    "        matrix(runif(num_samples * num_features, 0, 4), nrow = num_samples)\n",
    "    }\n",
    "    ## Initialize the survival time distribution\n",
    "    surv_mu_fun <- function(X) 0*X[,1] + 0.632 * X[,1]\n",
    "    surv_sigma_fun <- function(X) 0*X[,1] + 2\n",
    "    survival_generator <- LogNormalDistribution$new(mu_fun = surv_mu_fun, sigma_fun = surv_sigma_fun)\n",
    "    ## Initialize the censoring time distribution\n",
    "    cens_rate_fun <- function(X) 0*X[,1] + 0.1\n",
    "    censoring_generator <- ExponentialDistribution$new(rate_fun = cens_rate_fun)\n",
    "\n",
    "} else if(setting==2) {\n",
    "    ## Setting 2 from Gui et al.\n",
    "    ## Initialize the covariate model\n",
    "    num_features <- 1\n",
    "    covariate_generator <- function(num_samples) {\n",
    "        matrix(runif(num_samples * num_features, 0, 4), nrow = num_samples)\n",
    "    }\n",
    "    ## Initialize the survival time distribution\n",
    "    surv_mu_fun <- function(X) 0*X[,1] + 3 * (X[,1]>2) + X[,1] * (X[,1]<2)\n",
    "    surv_sigma_fun <- function(X) 0*X[,1] + 0.5\n",
    "    survival_generator <- LogNormalDistribution$new(mu_fun = surv_mu_fun, sigma_fun = surv_sigma_fun)\n",
    "    ## Initialize the censoring time distribution\n",
    "    cens_rate_fun <- function(X) 0*X[,1] + 0.1\n",
    "    censoring_generator <- ExponentialDistribution$new(rate_fun = cens_rate_fun)\n",
    "\n",
    "} else if(setting==3) {\n",
    "    ## Setting 3 from Gui et al.\n",
    "    ## Initialize the covariate model\n",
    "    num_features <- 1\n",
    "    covariate_generator <- function(num_samples) {\n",
    "        matrix(runif(num_samples * num_features, 0, 4), nrow = num_samples)\n",
    "    }\n",
    "    ## Initialize the survival time distribution\n",
    "    surv_mu_fun <- function(X) 0*X[,1] + 2 * (X[,1]>2) + X[,1] * (X[,1]<2)\n",
    "    surv_sigma_fun <- function(X) 0*X[,1] + 0.5\n",
    "    survival_generator <- LogNormalDistribution$new(mu_fun = surv_mu_fun, sigma_fun = surv_sigma_fun)\n",
    "    ## Initialize the censoring time distribution\n",
    "    cens_rate_fun <- function(X) 0*X[,1] + 0.25 + (X[,1]+6)/100\n",
    "    censoring_generator <- ExponentialDistribution$new(rate_fun = cens_rate_fun)\n",
    "\n",
    "    \n",
    "} else if(setting==4) {\n",
    "    ## Setting 4 from Gui et al.\n",
    "    ## Initialize the covariate model\n",
    "    num_features <- 1\n",
    "    covariate_generator <- function(num_samples) {\n",
    "        matrix(runif(num_samples * num_features, 0, 4), nrow = num_samples)\n",
    "    }\n",
    "    ## Initialize the survival time distribution\n",
    "    surv_mu_fun <- function(X) 0*X[,1] + 3 * (X[,1]>2) + 1.5 * X[,1] * (X[,1]<2)\n",
    "    surv_sigma_fun <- function(X) 0*X[,1] + 0.5\n",
    "    survival_generator <- LogNormalDistribution$new(mu_fun = surv_mu_fun, sigma_fun = surv_sigma_fun)\n",
    "    ## Initialize the censoring time distribution\n",
    "    cens_mu_fun <- function(X) 0*X[,1] + 2 + (2-X[,1])/50\n",
    "    cens_sigma_fun <- function(X) 0*X[,1] + 0.5\n",
    "    censoring_generator <- LogNormalDistribution$new(mu_fun = cens_mu_fun, sigma_fun = cens_sigma_fun)\n",
    "    \n",
    "} else if(setting==5) {\n",
    "    ## Setting 5 from Gui et al.\n",
    "    ## Initialize the covariate model\n",
    "    num_features <- 10\n",
    "    covariate_generator <- function(num_samples) {\n",
    "        matrix(runif(num_samples * num_features, 0, 4), nrow = num_samples)\n",
    "    }\n",
    "    ## Initialize the survival time distribution\n",
    "    surv_mu_fun <- function(X) 0*X[,1] + 0.126 * (X[,1] + sqrt(X[,3]*X[,5])) + 1\n",
    "    surv_sigma_fun <- function(X) 0*X[,1] + 0.5\n",
    "    survival_generator <- LogNormalDistribution$new(mu_fun = surv_mu_fun, sigma_fun = surv_sigma_fun)\n",
    "    ## Initialize the censoring time distribution\n",
    "    cens_rate_fun <- function(X) 0*X[,1] + X[,10]/10 + 1/20\n",
    "    censoring_generator <- ExponentialDistribution$new(rate_fun = cens_rate_fun)\n",
    "\n",
    "} else if(setting==6) {\n",
    "    ## Setting 6 from Gui et al.\n",
    "    ## Initialize the covariate model\n",
    "    num_features <- 10\n",
    "    covariate_generator <- function(num_samples) {\n",
    "        matrix(runif(num_samples * num_features, 0, 4), nrow = num_samples)\n",
    "    }\n",
    "    ## Initialize the survival time distribution\n",
    "    surv_mu_fun <- function(X) 0*X[,1] + 0.126 * (X[,1] + sqrt(X[,3]*X[,5])) + 1\n",
    "    surv_sigma_fun <- function(X) 0*X[,1] + (X[,2]+2)/4\n",
    "    survival_generator <- LogNormalDistribution$new(mu_fun = surv_mu_fun, sigma_fun = surv_sigma_fun)\n",
    "    ## Initialize the censoring time distribution\n",
    "    cens_rate_fun <- function(X) 0*X[,1] + X[,10]/10 + 1/20\n",
    "    censoring_generator <- ExponentialDistribution$new(rate_fun = cens_rate_fun)\n",
    "    \n",
    "} else if(setting==7) {\n",
    "    ## New setting\n",
    "    ## Initialize the covariate model\n",
    "    num_features <- 100\n",
    "    covariate_generator <- function(num_samples) {\n",
    "        matrix(runif(num_samples * num_features, 0, 1), nrow = num_samples)\n",
    "    }\n",
    "    ## Initialize the survival time distribution\n",
    "    surv_mu_fun <- function(X) 0*X[,1] + X[,1]^0.25\n",
    "    surv_sigma_fun <- function(X) 0*X[,1] + 0.1\n",
    "    survival_generator <- LogNormalDistribution$new(mu_fun = surv_mu_fun, sigma_fun = surv_sigma_fun)\n",
    "    ## Initialize the censoring time distribution\n",
    "    cens_mu_fun <- function(X) 0*X[,1] + X[,1]^4 + 0.4\n",
    "    cens_sigma_fun <- function(X) 0*X[,1] + 0.1\n",
    "    censoring_generator <- LogNormalDistribution$new(mu_fun = cens_mu_fun, sigma_fun = cens_sigma_fun)\n",
    "\n",
    "} else if(setting==8) {\n",
    "    ## New setting\n",
    "    ## Initialize the covariate model\n",
    "    num_features <- 20\n",
    "    covariate_generator <- function(num_samples) {\n",
    "        matrix(runif(num_samples * num_features, 0, 1), nrow = num_samples)\n",
    "    }\n",
    "    ## Initialize the survival time distribution\n",
    "    surv_mu_fun <- function(X) 0*X[,1] + (X[,2]>0.5) + (X[,3]<0.5) + (1-X[,1])^0.25\n",
    "    surv_sigma_fun <- function(X) 0*X[,1] + 0.1 * (1-X[,1])\n",
    "    survival_generator <- LogNormalDistribution$new(mu_fun = surv_mu_fun, sigma_fun = surv_sigma_fun)\n",
    "    ## Initialize the censoring time distribution\n",
    "    cens_mu_fun <- function(X) 0*X[,1] + (X[,2]>0.5) + (X[,3]<0.5) + (1-X[,1])^4 + 0.4\n",
    "    cens_sigma_fun <- function(X) 0*X[,1] + 0.1 * X[,2]\n",
    "    censoring_generator <- LogNormalDistribution$new(mu_fun = cens_mu_fun, sigma_fun = cens_sigma_fun)\n",
    "\n",
    "} else if(setting==9) {\n",
    "    ## Setting 3 from Candes et al.\n",
    "    ## Initialize the covariate model\n",
    "    num_features <- 100\n",
    "    covariate_generator <- function(num_samples) {\n",
    "        matrix(runif(num_samples * num_features, -1, 1), nrow = num_samples)\n",
    "    }\n",
    "    ## Initialize the survival time distribution\n",
    "    surv_mu_fun <- function(X) 0*X[,1] + log(2) + 1 + 0.55*(X[,1]^2-X[,3]*X[,5])\n",
    "    surv_sigma_fun <- function(X) 0*X[,1] + 1\n",
    "    survival_generator <- LogNormalDistribution$new(mu_fun = surv_mu_fun, sigma_fun = surv_sigma_fun)\n",
    "    ## Initialize the censoring time distribution\n",
    "    cens_rate_fun <- function(X) 0*X[,1] + 0.4\n",
    "    censoring_generator <- ExponentialDistribution$new(rate_fun = cens_rate_fun)\n",
    "\n",
    "} else if(setting==10) {\n",
    "    ## Setting 4 from Candes et al.\n",
    "    ## Initialize the covariate model\n",
    "    num_features <- 100\n",
    "    covariate_generator <- function(num_samples) {\n",
    "        matrix(runif(num_samples * num_features, -1, 1), nrow = num_samples)\n",
    "    }\n",
    "    ## Initialize the survival time distribution\n",
    "    surv_mu_fun <- function(X) 0*X[,1] + log(2) + 1 + 0.55*(X[,1]^2-X[,3]*X[,5])\n",
    "    surv_sigma_fun <- function(X) 0*X[,1] + abs(X[,10]) + 1\n",
    "    survival_generator <- LogNormalDistribution$new(mu_fun = surv_mu_fun, sigma_fun = surv_sigma_fun)\n",
    "    ## Initialize the censoring time distribution\n",
    "    cens_rate_fun <- function(X) 0*X[,1] + 0.4\n",
    "    censoring_generator <- ExponentialDistribution$new(rate_fun = cens_rate_fun)\n",
    "}\n",
    "\n",
    "# Initialize the data generator\n",
    "generator <- SurvivalDataGenerator$new(covariate_generator, survival_generator, censoring_generator)\n",
    "\n",
    "    \n",
    "# Sample sizes\n",
    "num_samples_train <- 100\n",
    "num_samples_cal <- 100\n",
    "num_samples_test <- 1000\n",
    "num_feat_censor <- 100\n",
    "\n",
    "# Set random seet\n",
    "#set.seed(2024)\n",
    "\n",
    "# Generate training, calibration, and test data\n",
    "# (including true event and censoring times)\n",
    "data.train.oracle <- generator$sample(num_samples_train)\n",
    "data.cal.oracle <- generator$sample(num_samples_cal)\n",
    "data.test.oracle <- generator$sample(num_samples_test)\n",
    "\n",
    "# Remove true event and censoring times from the data (right-censoring)\n",
    "data.train <- data.train.oracle |> select(-event_time, -censoring_time)\n",
    "data.cal <- data.cal.oracle |> select(-event_time, -censoring_time)\n",
    "data.test <- data.test.oracle |> select(-event_time, -censoring_time)\n",
    "\n",
    "# Remove only true event times from the data (type-I censoring)\n",
    "data.train.t1 <- data.train.oracle |> select(-event_time)\n",
    "data.cal.t1 <- data.cal.oracle |> select(-event_time)\n",
    "data.test.t1 <- data.test.oracle |> select(-event_time)\n",
    "\n",
    "#generator$predict_quantiles(select(data.test, -time, -status)[c(24),], T.max=1000)"
   ]
  },
  {
   "cell_type": "markdown",
   "id": "2e24bc2b",
   "metadata": {},
   "source": [
    "## Visualize the true (oracle) data distribution"
   ]
  },
  {
   "cell_type": "code",
   "execution_count": null,
   "id": "3df246ac",
   "metadata": {},
   "outputs": [],
   "source": [
    "data.test.oracle |>\n",
    "    select(X1, event_time, censoring_time) |>\n",
    "    pivot_longer(cols = c(event_time, censoring_time), \n",
    "                 names_to = \"time_type\", values_to = \"time_value\") |>\n",
    "    ggplot(aes(x=X1, y=time_value, color=time_type)) +\n",
    "    geom_point() +\n",
    "    scale_y_continuous(trans='log10') +\n",
    "    theme_bw()"
   ]
  },
  {
   "cell_type": "code",
   "execution_count": null,
   "id": "b5498d17",
   "metadata": {},
   "outputs": [],
   "source": [
    "source(\"../conf_surv/utils_conformal.R\")\n",
    "\n",
    "alpha = 0.1\n",
    "\n",
    "pred.oracle.fast <- generator$survival$predict_quantiles(select(data.test, -time, -status), probs=c(alpha))[[1]]\n",
    "\n",
    "evaluate_bounds(data.test$time, \n",
    "                pred.oracle.fast,\n",
    "                event_time=data.test.oracle$event_time)"
   ]
  },
  {
   "cell_type": "code",
   "execution_count": null,
   "id": "d9ee3430",
   "metadata": {},
   "outputs": [],
   "source": [
    "# Plot the survival curves\n",
    "\n",
    "source(\"../conf_surv/utils_plotting_new.R\")\n",
    "predictions.surv = generator$survival$predict(data.test[1:4,], seq(0,5, length.out=1000))\n",
    "plot_survival_curves(predictions.surv)"
   ]
  },
  {
   "cell_type": "code",
   "execution_count": null,
   "id": "a8bd4aae",
   "metadata": {},
   "outputs": [],
   "source": [
    "# Plot the censoring curves\n",
    "\n",
    "source(\"../conf_surv/utils_plotting_new.R\")\n",
    "predictions.censor = generator$censoring$predict(data.test[1:4,], seq(0,20, length.out=1000))\n",
    "plot_survival_curves(predictions.censor)"
   ]
  },
  {
   "cell_type": "markdown",
   "id": "6930bdbd",
   "metadata": {},
   "source": [
    "## Explore the data"
   ]
  },
  {
   "cell_type": "markdown",
   "id": "88e39a21",
   "metadata": {},
   "source": [
    "Let's take a look at the data"
   ]
  },
  {
   "cell_type": "code",
   "execution_count": null,
   "id": "0a87649d",
   "metadata": {},
   "outputs": [],
   "source": [
    "# Summarize data under type-I censoring\n",
    "data.train.oracle |>\n",
    "    summarise(Observations=n(), Events = sum(status), \n",
    "              `Proportion censored`=mean(status==0),\n",
    "              `Median event time`=median(event_time),\n",
    "              `Mean event time`=mean(event_time),\n",
    "              `Median censoring time`=median(censoring_time),\n",
    "              `Mean censoring time`=mean(censoring_time),\n",
    "              `Median observed time`=median(time),\n",
    "              `Median observed event time`=median(time[status]),\n",
    "              `Median censoring time` = median(censoring_time))"
   ]
  },
  {
   "cell_type": "code",
   "execution_count": null,
   "id": "0e79675a",
   "metadata": {},
   "outputs": [],
   "source": [
    "# Kaplan-Meier plot\n",
    "survfit2(Surv(time, status) ~ 1, data = data.train) |> \n",
    "  ggsurvfit() +\n",
    "  labs(\n",
    "    x = \"Time\",\n",
    "    y = \"Overall survival probability\"\n",
    "  ) +\n",
    "  add_confidence_interval() +\n",
    "  add_risktable()"
   ]
  },
  {
   "cell_type": "markdown",
   "id": "0754ea82",
   "metadata": {},
   "source": [
    "## Fit survival model\n",
    "\n",
    "Fit a survival model using the training data."
   ]
  },
  {
   "cell_type": "code",
   "execution_count": null,
   "id": "4e3354db",
   "metadata": {},
   "outputs": [],
   "source": [
    "source(\"../conf_surv/utils_survival_new.R\")\n",
    "\n",
    "model_type = \"grf\"\n",
    "\n",
    "if(model_type==\"grf\") {\n",
    "    # Instantiate GRF survival forest\n",
    "    surv_model <- GRF_SurvivalForestWrapper$new()\n",
    "} else if (model_type==\"survreg\") {\n",
    "    # Instantiate Cox proportional hazards model\n",
    "    surv_model <- SurvregModelWrapper$new(dist=\"lognormal\")\n",
    "} else if (model_type==\"rf\") {\n",
    "    # Instantiate random forest survival model\n",
    "    surv_model <- randomForestSRC_SurvivalWrapper$new()\n",
    "} else if (model_type==\"cox\") {\n",
    "    # Instantiate random forest survival model\n",
    "    surv_model <- CoxphModelWrapper$new()\n",
    "} else {\n",
    "    stop(\"Unknown model type!\")\n",
    "}"
   ]
  },
  {
   "cell_type": "markdown",
   "id": "6e50d1ed",
   "metadata": {},
   "source": [
    "## Visualize the model's predictions\n",
    "\n",
    "Visualize the predicted survival curves for two individuals."
   ]
  },
  {
   "cell_type": "code",
   "execution_count": null,
   "id": "0fd5de52",
   "metadata": {},
   "outputs": [],
   "source": [
    "surv_model$fit(Surv(time, status) ~ ., data = data.train)\n",
    "\n",
    "idx.predict <- c(1:4)\n",
    "\n",
    "predictions = surv_model$predict(data.cal[idx.predict,])\n",
    "plot_survival_curves(predictions)"
   ]
  },
  {
   "cell_type": "markdown",
   "id": "289ab5a6",
   "metadata": {},
   "source": [
    "Predict survival time quantiles"
   ]
  },
  {
   "cell_type": "code",
   "execution_count": null,
   "id": "fb797e8a",
   "metadata": {},
   "outputs": [],
   "source": [
    "# Predict survival time quantiles\n",
    "surv_model$predict_quantiles(data.cal[idx.predict,], probs = c(0.1, 0.5, 0.9))"
   ]
  },
  {
   "cell_type": "markdown",
   "id": "9f2bb990",
   "metadata": {},
   "source": [
    "## Estimating the censoring distribution\n",
    "\n",
    "Let's start by visualizing the true censoring distribution"
   ]
  },
  {
   "cell_type": "code",
   "execution_count": null,
   "id": "d891670f",
   "metadata": {},
   "outputs": [],
   "source": [
    "source(\"../conf_surv/utils_censoring.R\")\n",
    "source(\"../conf_surv/utils_survival_new.R\")\n",
    "\n",
    "# List of covariates to use for censoring model\n",
    "use.covariates <- paste(\"X\",1:min(num_features,num_feat_censor),sep=\"\")\n",
    "\n",
    "# Initialize a base model for the censoring distribution\n",
    "#cens_base_model <- GRF_SurvivalForestWrapper$new(use_covariates=use.covariates)\n",
    "cens_base_model <- SurvregModelWrapper$new(dist=\"lognormal\", use_covariates=use.covariates)\n",
    "#cens_base_model <- CoxphModelWrapper$new(use_covariates=use.covariates)\n",
    "#cens_base_model <- randomForestSRC_SurvivalWrapper$new(use_covariates=use.covariates)\n",
    "\n",
    "# Create an instance of the CensoringModel class with the model\n",
    "censoring_model <- CensoringModel$new(model = cens_base_model)\n",
    "censoring_model <- CensoringModel$new(model = cens_base_model)\n",
    "\n",
    "# Fit the censoring distribution\n",
    "censoring_model$fit(data = data.train)\n",
    "\n",
    "# Plot the censoring distribution for the first individual\n",
    "idx.predict <- c(1:4)\n",
    "pred_surv = censoring_model$model$predict(data.cal[idx.predict,])\n",
    "plot_survival_curves(pred_surv)"
   ]
  },
  {
   "cell_type": "markdown",
   "id": "4303e5a6",
   "metadata": {},
   "source": [
    "## Oracle prediction bounds"
   ]
  },
  {
   "cell_type": "code",
   "execution_count": null,
   "id": "262731fc",
   "metadata": {},
   "outputs": [],
   "source": [
    "source(\"../conf_surv/utils_conformal.R\")\n",
    "\n",
    "alpha = 0.1\n",
    "\n",
    "pred.oracle <- generator$survival$predict_quantiles(select(data.test, -time, -status), probs=c(alpha))[[1]]\n",
    "\n",
    "evaluate_bounds(data.test$time, \n",
    "                pred.oracle,\n",
    "                event_time=data.test.oracle$event_time,\n",
    "                oracle = pred.oracle)"
   ]
  },
  {
   "cell_type": "markdown",
   "id": "f4959eca",
   "metadata": {},
   "source": [
    "## Naive CQR"
   ]
  },
  {
   "cell_type": "code",
   "execution_count": null,
   "id": "a3dd9e7d",
   "metadata": {},
   "outputs": [],
   "source": [
    "source(\"../conf_surv/utils_conformal.R\")\n",
    "\n",
    "alpha = 0.1\n",
    "pred.cqr <- predict_CQR(data.test, surv_model, data.cal, alpha)\n",
    "\n",
    "evaluate_bounds(data.test$time, \n",
    "                pred.cqr,\n",
    "                event_time=data.test.oracle$event_time,\n",
    "                oracle=pred.oracle)"
   ]
  },
  {
   "cell_type": "markdown",
   "id": "8b72df53",
   "metadata": {},
   "source": [
    "## Nominal lower bound"
   ]
  },
  {
   "cell_type": "code",
   "execution_count": null,
   "id": "65977c54",
   "metadata": {},
   "outputs": [],
   "source": [
    "alpha = 0.1\n",
    "pred.nominal <- surv_model$predict_quantiles(data.test, probs=alpha)[[1]]\n",
    "\n",
    "evaluate_bounds(data.test$time, \n",
    "                pred.nominal,\n",
    "                event_time=data.test.oracle$event_time,\n",
    "                oracle=pred.oracle)"
   ]
  },
  {
   "cell_type": "markdown",
   "id": "56a47a48",
   "metadata": {},
   "source": [
    "## CQR with de-censoring"
   ]
  },
  {
   "cell_type": "code",
   "execution_count": null,
   "id": "80ebf66f",
   "metadata": {},
   "outputs": [],
   "source": [
    "## Create a survival object\n",
    "surv_object <- survival::Surv(time = data.train$time, event = data.train$status)\n",
    "\n",
    "## Fit the Kaplan-Meier survival model\n",
    "km_fit <- survfit(surv_object ~ 1)\n",
    "\n",
    "## Plot the Kaplan-Meier survival curve\n",
    "plot(km_fit)"
   ]
  },
  {
   "cell_type": "code",
   "execution_count": null,
   "id": "f399c7b4",
   "metadata": {},
   "outputs": [],
   "source": [
    "source(\"../conf_surv/utils_decensoring.R\")\n",
    "\n",
    "pred.decensor <- predict_decensoring(data.test, surv_model, km_fit, data.cal, alpha, R=10)\n",
    "\n",
    "evaluate_bounds(data.test.oracle$time, \n",
    "                pred.decensor,\n",
    "                event_time=data.test.oracle$event_time,\n",
    "                oracle=pred.oracle)"
   ]
  },
  {
   "cell_type": "markdown",
   "id": "c7fe0379",
   "metadata": {},
   "source": [
    "## Gui's method (with oracle censoring times, and oracle weights)"
   ]
  },
  {
   "cell_type": "code",
   "execution_count": null,
   "id": "7a7bd895",
   "metadata": {},
   "outputs": [],
   "source": [
    "source(\"../conf_surv/utils_conformal.R\")\n",
    "\n",
    "# Impute the missing censoring times\n",
    "C.cal <- data.cal.oracle$censoring_time\n",
    "\n",
    "pred.gui <- predict_Gui(data.test, surv_model, generator$censoring, data.cal, C.cal, alpha, use_cqr=FALSE, use_censoring_model=TRUE, \n",
    "                        finite_sample_correction=FALSE)\n",
    "\n",
    "evaluate_bounds(data.test.oracle$time, \n",
    "                pred.gui,\n",
    "                event_time=data.test.oracle$event_time,\n",
    "                oracle=pred.oracle)"
   ]
  },
  {
   "cell_type": "markdown",
   "id": "a8487879",
   "metadata": {},
   "source": [
    "## Candes' method (with oracle censoring times, and oracle weights)"
   ]
  },
  {
   "cell_type": "code",
   "execution_count": null,
   "id": "21308010",
   "metadata": {},
   "outputs": [],
   "source": [
    "source(\"../conf_surv/utils_conformal.R\")\n",
    "\n",
    "# Impute the missing censoring times\n",
    "C.cal <- data.cal.oracle$censoring_time\n",
    "\n",
    "pred.candes <- predict_Candes(data.test, surv_model, generator$censoring, data.cal, C.cal, alpha)\n",
    "\n",
    "evaluate_bounds(data.test.oracle$time, \n",
    "                pred.candes,\n",
    "                event_time=data.test.oracle$event_time,\n",
    "                oracle=pred.oracle)"
   ]
  },
  {
   "cell_type": "code",
   "execution_count": null,
   "id": "3bbc0fbd",
   "metadata": {},
   "outputs": [],
   "source": [
    "source(\"../conf_surv/utils_conformal.R\")\n",
    "\n",
    "# Apply Candes' method with automatic tuning of c0\n",
    "tuning.package <- list(data.train = data.train,\n",
    "                       C.train = data.train.oracle$censoring_time)\n",
    "\n",
    "pred.candes.tuned <- predict_Candes(data.test, surv_model, generator$censoring, data.cal, C.cal, alpha, \n",
    "                                    tuning.package=tuning.package)\n",
    "\n",
    "evaluate_bounds(data.test.oracle$time, \n",
    "                pred.candes.tuned,\n",
    "                event_time=data.test.oracle$event_time,\n",
    "                oracle=pred.oracle)"
   ]
  },
  {
   "cell_type": "markdown",
   "id": "88367729",
   "metadata": {},
   "source": [
    "## Candes' method (with oracle censoring times, and estimated weights)"
   ]
  },
  {
   "cell_type": "code",
   "execution_count": null,
   "id": "5f361548",
   "metadata": {},
   "outputs": [],
   "source": [
    "source(\"../conf_surv/utils_conformal.R\")\n",
    "\n",
    "# Impute the missing censoring times\n",
    "C.cal <- data.cal.oracle$censoring_time\n",
    "\n",
    "pred.candes <- predict_Candes(data.test, surv_model, censoring_model$model, data.cal, C.cal, alpha)\n",
    "\n",
    "evaluate_bounds(data.test.oracle$time, \n",
    "                pred.candes,\n",
    "                event_time=data.test.oracle$event_time,\n",
    "                oracle=pred.oracle)"
   ]
  },
  {
   "cell_type": "code",
   "execution_count": null,
   "id": "5fb39893",
   "metadata": {},
   "outputs": [],
   "source": [
    "source(\"../conf_surv/utils_conformal.R\")\n",
    "\n",
    "# Tune c0\n",
    "pred.candes.tuned <- predict_Candes(data.test, surv_model, censoring_model$model, data.cal, C.cal, alpha,\n",
    "                                    tuning.package=tuning.package)\n",
    "\n",
    "evaluate_bounds(data.test.oracle$time, \n",
    "                pred.candes.tuned,\n",
    "                event_time=data.test.oracle$event_time,\n",
    "                oracle=pred.oracle)"
   ]
  },
  {
   "cell_type": "markdown",
   "id": "5f890d59",
   "metadata": {},
   "source": [
    "## Prototype (with Candes' method, imputation based on estimated censoring model, estimated weights)"
   ]
  },
  {
   "cell_type": "code",
   "execution_count": null,
   "id": "de2040d5",
   "metadata": {},
   "outputs": [],
   "source": [
    "source(\"../conf_surv/utils_conformal.R\")\n",
    "\n",
    "tuning.package.2 <- list(data.train = data.train)\n",
    "\n",
    "pred.proto <- predict_prototype(data.test, surv_model, censoring_model, data.cal, alpha, tuning.package=tuning.package.2, cutoffs=\"candes-tuning\")\n",
    "\n",
    "evaluate_bounds(data.test$time, \n",
    "                pred.proto,\n",
    "                event_time=data.test.oracle$event_time,\n",
    "                oracle=pred.oracle)"
   ]
  },
  {
   "cell_type": "markdown",
   "id": "b0a2a6d5",
   "metadata": {},
   "source": [
    "## Prototype (with Gui's method, imputation based on estimated censoring model, estimated weights)"
   ]
  },
  {
   "cell_type": "code",
   "execution_count": null,
   "id": "b03879d7",
   "metadata": {},
   "outputs": [],
   "source": [
    "source(\"../conf_surv/utils_conformal.R\")\n",
    "\n",
    "pred.proto <- predict_prototype(data.test, surv_model, censoring_model, data.cal, alpha, cutoffs=\"adaptive-cqr\", finite_sample_correction=FALSE)\n",
    "\n",
    "evaluate_bounds(data.test$time, \n",
    "                pred.proto,\n",
    "                event_time=data.test.oracle$event_time,\n",
    "                oracle=pred.oracle)"
   ]
  },
  {
   "cell_type": "markdown",
   "id": "5366aa47",
   "metadata": {},
   "source": [
    "## Prepare for repeated experiments"
   ]
  },
  {
   "cell_type": "code",
   "execution_count": null,
   "id": "97a56864",
   "metadata": {},
   "outputs": [],
   "source": [
    "source(\"../conf_surv/utils_conformal.R\")\n",
    "#surv_model <- GRF_SurvivalForestWrapper$new()\n",
    "#cens_base_model <- SurvregModelWrapper$new(dist=\"weibull\")\n",
    "\n",
    "analyze_data <- function(data.train, data.cal, data.test, \n",
    "                         surv_model, cens_model, generator=NULL) {\n",
    "    \n",
    "    # Initialize the censoring model\n",
    "    cens_model <- CensoringModel$new(model = cens_base_model)\n",
    "    \n",
    "    # Fit the survival model on the training data\n",
    "    surv_model$fit(Surv(time, status) ~ ., data = data.train)\n",
    "    \n",
    "    # Fit the censoring model on the training data\n",
    "    cens_model$fit(data = data.train)\n",
    "    \n",
    "    # Apply all methods\n",
    "    predictions <- c()\n",
    "    \n",
    "    # Construct oracle lower bound\n",
    "    if(!is.null(generator)) {\n",
    "        predictions$oracle <- generator$survival$predict_quantiles(select(data.test, -time, -status), probs=c(alpha))[[1]]\n",
    "    }\n",
    "    \n",
    "    # Construct nominal lower bound\n",
    "    predictions$nominal <- surv_model$predict_quantiles(data.test, probs=alpha)[[1]]\n",
    "    \n",
    "    # Apply naive CQR\n",
    "    predictions$cqr <- predict_CQR(data.test, surv_model, data.cal, alpha)\n",
    "\n",
    "    # Apply CQR with de-censoring\n",
    "    predictions$cqr.decensor <- predict_decensoring(data.test, surv_model, km_fit, data.cal, alpha, R=10)\n",
    "    \n",
    "    # Apply Candes' method with \"oracle\" censoring model\n",
    "    C.cal.oracle <- data.cal.oracle$censoring_time\n",
    "    predictions$candes.oracle <- predict_Candes(data.test, surv_model, generator$censoring, data.cal, C.cal.oracle, alpha)\n",
    "    \n",
    "    # Apply Candes' method with \"oracle\" censoring model and tuning\n",
    "    #tuning.package <- list(data.train = data.train, C.train = data.train.oracle$censoring_time)\n",
    "    #predictions$candes.oracle.tuned <- predict_Candes(data.test, surv_model, generator$censoring, data.cal, C.cal.oracle, alpha, tuning.package=tuning.package)\n",
    "    \n",
    "    # Apply Gui's method with \"oracle\" censoring model\n",
    "    predictions$gui.oracle <- predict_Gui(data.test, surv_model, generator$censoring, data.cal, C.cal.oracle, alpha, finite_sample_correction=FALSE)\n",
    "    \n",
    "    # Apply prototype (Candes)\n",
    "    predictions$prototype.candes <- predict_prototype(data.test, surv_model, cens_model, data.cal, alpha, cutoffs=\"candes-fixed\")\n",
    "\n",
    "    # Apply prototype (Gui)\n",
    "    predictions$prototype.gui <- predict_prototype(data.test, surv_model, cens_model, data.cal, alpha, cutoffs=\"adaptive-cqr\", \n",
    "                                                   finite_sample_correction=FALSE)\n",
    "\n",
    "    \n",
    "    return(predictions)\n",
    "}\n",
    "\n",
    "predictions <- analyze_data(data.train, data.cal, data.test, surv_model, censoring_model, generator=generator)"
   ]
  },
  {
   "cell_type": "code",
   "execution_count": null,
   "id": "749a19c2",
   "metadata": {},
   "outputs": [],
   "source": [
    "results <- do.call(rbind, lapply(names(predictions), function(name) {\n",
    "    res = evaluate_bounds(data.test$time, predictions[[name]], \n",
    "                          event_time=data.test.oracle$event_time,\n",
    "                          oracle=predictions$oracle)\n",
    "    \n",
    "  cbind(Method = name, res)\n",
    "}))\n",
    "results"
   ]
  },
  {
   "cell_type": "markdown",
   "id": "b0be4120",
   "metadata": {},
   "source": [
    "## TODO\n",
    "\n",
    " - Design more interesting data distribution\n",
    " - Run large-scale experiments"
   ]
  },
  {
   "cell_type": "code",
   "execution_count": null,
   "id": "9966674f",
   "metadata": {},
   "outputs": [],
   "source": []
  }
 ],
 "metadata": {
  "kernelspec": {
   "display_name": "R",
   "language": "R",
   "name": "ir"
  },
  "language_info": {
   "codemirror_mode": "r",
   "file_extension": ".r",
   "mimetype": "text/x-r-source",
   "name": "R",
   "pygments_lexer": "r",
   "version": "4.4.1"
  }
 },
 "nbformat": 4,
 "nbformat_minor": 5
}
